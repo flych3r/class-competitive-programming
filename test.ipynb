{
 "cells": [
  {
   "cell_type": "code",
   "execution_count": 20,
   "metadata": {
    "Collapsed": "false"
   },
   "outputs": [],
   "source": [
    "def sortedness(d):\n",
    "    u = 0\n",
    "    for i, c in enumerate(d):\n",
    "        for l in d[i+1:]:\n",
    "            if c > l:\n",
    "                u += 1\n",
    "    return u"
   ]
  },
  {
   "cell_type": "code",
   "execution_count": 25,
   "metadata": {
    "Collapsed": "false"
   },
   "outputs": [],
   "source": [
    "n = 10\n",
    "m = 6\n",
    "o = [\n",
    "    'AACATGAAGG',\n",
    "    'TTTTGGCCAA',\n",
    "    'TTTGGCCAAA',\n",
    "    'GATCAGATTT',\n",
    "    'CCCGGGGGGA',\n",
    "    'ATCGATGCAT'\n",
    "]\n",
    "l = []\n",
    "for d in o:\n",
    "    s = sortedness(d)\n",
    "    l.append((s, d))"
   ]
  },
  {
   "cell_type": "code",
   "execution_count": 27,
   "metadata": {
    "Collapsed": "false"
   },
   "outputs": [
    {
     "data": {
      "text/plain": [
       "[(9, 'CCCGGGGGGA'),\n",
       " (10, 'AACATGAAGG'),\n",
       " (11, 'GATCAGATTT'),\n",
       " (17, 'ATCGATGCAT'),\n",
       " (36, 'TTTTGGCCAA'),\n",
       " (37, 'TTTGGCCAAA')]"
      ]
     },
     "execution_count": 27,
     "metadata": {},
     "output_type": "execute_result"
    }
   ],
   "source": [
    "sorted(l)"
   ]
  },
  {
   "cell_type": "code",
   "execution_count": null,
   "metadata": {
    "Collapsed": "false"
   },
   "outputs": [],
   "source": []
  }
 ],
 "metadata": {
  "kernelspec": {
   "display_name": "Python 3",
   "language": "python",
   "name": "python3"
  },
  "language_info": {
   "codemirror_mode": {
    "name": "ipython",
    "version": 3
   },
   "file_extension": ".py",
   "mimetype": "text/x-python",
   "name": "python",
   "nbconvert_exporter": "python",
   "pygments_lexer": "ipython3",
   "version": "3.7.6"
  }
 },
 "nbformat": 4,
 "nbformat_minor": 4
}
